{
 "cells": [
  {
   "cell_type": "code",
   "execution_count": 1,
   "metadata": {},
   "outputs": [],
   "source": [
    "from operator import index\n",
    "import pandas as pd\n",
    "import numpy as np\n",
    "import torch\n",
    "from sklearn.model_selection import train_test_split\n",
    "\n",
    "\n",
    "def load_data(pth):\n",
    "\n",
    "    data = pd.read_csv(pth)\n",
    "\n",
    "    data.drop(['date'], axis = 1, inplace = True)\n",
    "\n",
    "    y = data['DAX'].values\n",
    "    x = data.drop(['DAX'], axis = 1).values\n",
    "\n",
    "    x_train, x_test, y_train, y_test = train_test_split(x, y, test_size = 0.1, random_state = 0)\n",
    "\n",
    "    x_train = torch.tensor(x_train.astype(np.float32))\n",
    "    x_test = torch.tensor(x_test.astype(np.float32))\n",
    "\n",
    "    y_train = torch.tensor(y_train.astype(np.float32))\n",
    "    y_test = torch.tensor(y_test.astype(np.float32))\n",
    "\n",
    "    return x_train, x_test, y_train, y_test\n",
    "\n",
    "#(100, 7) -> (10,10,7)\n",
    "#(100, 1) -> (10,10,1)\n",
    "\n",
    "def to_batches(x_train, x_test, y_train, y_test, batch_size):\n",
    "\n",
    "    n_batches = x_train.shape[0] // batch_size # 11 / 3 = 3.66 -> 3\n",
    "    n_batches_test = x_test.shape[0] // batch_size\n",
    "\n",
    "    indexes = np.random.permutation(x_train.shape[0])\n",
    "    indexes_test = np.random.permutation(x_test.shape[0])\n",
    "\n",
    "\n",
    "    x_train = x_train[indexes]\n",
    "    y_train = y_train[indexes]\n",
    "\n",
    "    x_test = x_test[indexes_test]\n",
    "    y_test = y_test[indexes_test]\n",
    "\n",
    "    x_train = x_train[ :batch_size * n_batches ].reshape(n_batches, batch_size, x_train.shape[1])\n",
    "    y_train = y_train[ :batch_size * n_batches ].reshape(n_batches, batch_size, 1)\n",
    "    \n",
    "    x_test = x_test[ :batch_size * n_batches_test ].reshape(n_batches_test, batch_size, x_test.shape[1])\n",
    "    y_test = y_test[ :batch_size * n_batches_test ].reshape(n_batches_test, batch_size, 1)\n",
    "\n",
    "\n",
    "    return x_train, x_test, y_train, y_test\n",
    "\n",
    "\n"
   ]
  },
  {
   "cell_type": "code",
   "execution_count": null,
   "metadata": {},
   "outputs": [],
   "source": []
  }
 ],
 "metadata": {
  "interpreter": {
   "hash": "8e98eea00a698c66ff9007bd5a8bf6209cdaa78d416205c57d24ef9296d8223a"
  },
  "kernelspec": {
   "display_name": "Python 3.7.11 ('strive')",
   "language": "python",
   "name": "python3"
  },
  "language_info": {
   "codemirror_mode": {
    "name": "ipython",
    "version": 3
   },
   "file_extension": ".py",
   "mimetype": "text/x-python",
   "name": "python",
   "nbconvert_exporter": "python",
   "pygments_lexer": "ipython3",
   "version": "3.7.11"
  },
  "orig_nbformat": 4
 },
 "nbformat": 4,
 "nbformat_minor": 2
}
