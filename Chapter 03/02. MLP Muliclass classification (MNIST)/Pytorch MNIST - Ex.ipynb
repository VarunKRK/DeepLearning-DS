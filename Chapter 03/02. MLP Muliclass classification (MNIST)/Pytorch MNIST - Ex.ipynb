{
 "cells": [
  {
   "cell_type": "markdown",
   "metadata": {},
   "source": [
    "<div style=\"background:#222222; color:#ffffff; padding:20px\">\n",
    "    <h2 align=\"center\">Deep Learning Fundamentals</h2>\n",
    "    <h2 align=\"center\" style=\"color:#01ff84\">Multiclass Clasification: MNIST</h2>\n",
    "<div>"
   ]
  },
  {
   "cell_type": "markdown",
   "metadata": {},
   "source": [
    "## Imports"
   ]
  },
  {
   "cell_type": "code",
   "execution_count": 1,
   "metadata": {},
   "outputs": [],
   "source": [
    "# importing modules\n",
    "import torch as T\n",
    "import torch.nn as nn \n",
    "import torch.optim as optim\n",
    "import torch.nn.functional as F\n",
    "from torchvision import datasets, transforms \n",
    "\n",
    "import matplotlib.pyplot as plt\n",
    "import numpy as np\n",
    "import time\n",
    "\n",
    "%matplotlib inline\n",
    "%config InlineBackend.figure_format = 'retina'"
   ]
  },
  {
   "cell_type": "markdown",
   "metadata": {},
   "source": [
    "## Auxliary plotting function"
   ]
  },
  {
   "cell_type": "code",
   "execution_count": 2,
   "metadata": {},
   "outputs": [],
   "source": [
    "# https://discuss.pytorch.org/t/view-classify-in-module-helper/30279/6\n",
    "\n",
    "def view_classify(img, ps):\n",
    "\n",
    "    ps = ps.data.numpy().squeeze()\n",
    "\n",
    "    fig, (ax1, ax2) = plt.subplots(figsize=(6,9), ncols=2)\n",
    "    ax1.imshow(img.resize_(1, 28, 28).numpy().squeeze())\n",
    "    ax1.axis('off')\n",
    "    ax2.barh(np.arange(10), ps)\n",
    "    ax2.set_aspect(0.1)\n",
    "    ax2.set_yticks(np.arange(10))\n",
    "    ax2.set_yticklabels(np.arange(10))\n",
    "    ax2.set_title('Class Probability')\n",
    "    ax2.set_xlim(0, 1.1)"
   ]
  },
  {
   "cell_type": "markdown",
   "metadata": {},
   "source": [
    "# Load MNIST Dataset\n",
    "First up, we need to get our dataset. This is provided through the `torchvision` package. The code below will download the MNIST dataset, then create training and test datasets for us. Don't worry too much about the details here, you'll learn more about this later."
   ]
  },
  {
   "cell_type": "code",
   "execution_count": 3,
   "metadata": {},
   "outputs": [],
   "source": [
    "# Define a transform to normalize the data (Preprocessing)\n",
    "transform = transforms.Compose([transforms.ToTensor(), transforms.Normalize((0.5), (0.5)) ])\n",
    "\n",
    "# Download and load the training data\n",
    "trainset    = datasets.MNIST('MNIST_data/', download=True, train=True, transform=transform)\n",
    "trainloader = T.utils.data.DataLoader(trainset, batch_size=64, shuffle=True)\n",
    "\n",
    "# Download and load the test data\n",
    "testset    = datasets.MNIST('MNIST_data/', download=True, train=False, transform=transform)\n",
    "testloader = T.utils.data.DataLoader(testset, batch_size=64, shuffle=True)"
   ]
  },
  {
   "cell_type": "code",
   "execution_count": 4,
   "metadata": {},
   "outputs": [],
   "source": [
    "dataiter = iter(trainloader)\n",
    "images, labels = dataiter.next()"
   ]
  },
  {
   "cell_type": "markdown",
   "metadata": {},
   "source": [
    "Now our network is brilliant. It can accurately predict the digits in our images."
   ]
  },
  {
   "cell_type": "markdown",
   "metadata": {},
   "source": [
    "<div style=\"background:#222222; color:#ffffff; padding:20px\">\n",
    "    <h2 align=\"center\" style=\"color:#01ff84\">MNIST Clasification: Exercise</h2>\n",
    "<div>"
   ]
  },
  {
   "cell_type": "markdown",
   "metadata": {},
   "source": [
    "<div style=\"background:#222222; color:#ffffff; padding:20px\">\n",
    "  <h3 style=\"color:#01ff84; margin-top:4px\">Exercise 2:</h3>\n",
    "  <p>Train your network implementing the Pytorch training loop and <strong style=\"color:#01ff84\">after each epoch, use the model for predicting the test (validation) MNIST data.</strong></p>\n",
    "  <p>Note: If your model does not fit with the final softmax layer, you can remove this layer.</p>\n",
    "  <p>Hint: <a href=\"https://discuss.pytorch.org/t/training-loop-checking-validation-accuracy/78399\">Training loop checking validation accuracy\n",
    "</a></p>\n",
    "  <p>Research about <code>model.train()</code>, <code>model.eval()</code> and <code>with torch.no_grad()</code> in Pytorch.\n",
    "<div>"
   ]
  },
  {
   "cell_type": "code",
   "execution_count": 5,
   "metadata": {},
   "outputs": [],
   "source": [
    "# ## TODO: Your network here\n",
    "# input_sz = 784\n",
    "# hidden_sz = [400, 200, 100]\n",
    "# output_sz = 10\n",
    "\n",
    "# # Building a feed-forward network\n",
    "\n",
    "# model = nn.Sequential(nn.Linear(input_sz, hidden_sz[0]),\n",
    "#                       nn.ReLU(),\n",
    "#                       nn.Linear(hidden_sz[0], hidden_sz[1]),\n",
    "#                       nn.ReLU(),\n",
    "#                       nn.Linear(hidden_sz[1], hidden_sz[2]),\n",
    "#                       nn.ReLU(),\n",
    "#                       nn.Linear(hidden_sz[2], output_sz))\n",
    "#                       #nn.Softmax(dim=1))\n",
    "\n",
    "# print(model)"
   ]
  },
  {
   "cell_type": "code",
   "execution_count": 6,
   "metadata": {},
   "outputs": [
    {
     "data": {
      "text/plain": [
       "Classifier(\n",
       "  (input_layer): Linear(in_features=784, out_features=600, bias=True)\n",
       "  (hidden1): Linear(in_features=600, out_features=400, bias=True)\n",
       "  (hidden2): Linear(in_features=400, out_features=200, bias=True)\n",
       "  (hidden3): Linear(in_features=200, out_features=100, bias=True)\n",
       "  (output_layer): Linear(in_features=100, out_features=10, bias=True)\n",
       ")"
      ]
     },
     "execution_count": 6,
     "metadata": {},
     "output_type": "execute_result"
    }
   ],
   "source": [
    "class Classifier(nn.Module):\n",
    "    # Deining layers\n",
    "    def __init__(self):\n",
    "        super().__init__()\n",
    "        self.input_layer = nn.Linear(784,600)\n",
    "        self.hidden1 = nn.Linear(600,400)\n",
    "        self.hidden2 = nn.Linear(400,200)\n",
    "        self.hidden3 = nn.Linear(200,100)\n",
    "        self.output_layer = nn.Linear(100,10)\n",
    "\n",
    "    # forward pass through the network\n",
    "    def forward(self, x):\n",
    "        first_layer = self.input_layer(x)\n",
    "        act1 = F.relu(first_layer)\n",
    "        second_layer = self.hidden1(act1)\n",
    "        act2 = F.relu(second_layer)\n",
    "        third_layer = self.hidden2(act2)\n",
    "        act3 = F.relu(third_layer)\n",
    "        fourth_layer = self.hidden3(act3)\n",
    "        act4 = F.relu(fourth_layer)\n",
    "        out_layer = self.output_layer(act4)\n",
    "        #x = F.softmax(out_layer, dim=1)\n",
    "        return out_layer\n",
    "\n",
    "model = Classifier()\n",
    "model"
   ]
  },
  {
   "cell_type": "code",
   "execution_count": 18,
   "metadata": {},
   "outputs": [
    {
     "name": "stdout",
     "output_type": "stream",
     "text": [
      "Epoch: 1/3\n",
      "\tIteration: 0\t Loss: 0.0270\n",
      "\tIteration: 40\t Loss: 1.0567\n",
      "\tIteration: 80\t Loss: 1.0173\n",
      "\tIteration: 120\t Loss: 0.9944\n",
      "\tIteration: 160\t Loss: 0.9650\n",
      "\tIteration: 200\t Loss: 0.9550\n",
      "\tIteration: 240\t Loss: 0.9325\n",
      "\tIteration: 280\t Loss: 0.9147\n",
      "\tIteration: 320\t Loss: 0.8648\n",
      "\tIteration: 360\t Loss: 0.8447\n",
      "\tIteration: 400\t Loss: 0.8325\n",
      "\tIteration: 440\t Loss: 0.8271\n",
      "\tIteration: 480\t Loss: 0.8200\n",
      "\tIteration: 520\t Loss: 0.8027\n",
      "\tIteration: 560\t Loss: 0.8159\n",
      "\tIteration: 600\t Loss: 0.8177\n",
      "\tIteration: 640\t Loss: 0.8069\n",
      "\tIteration: 680\t Loss: 0.7611\n",
      "\tIteration: 720\t Loss: 0.7213\n",
      "\tIteration: 760\t Loss: 0.7491\n",
      "\tIteration: 800\t Loss: 0.7587\n",
      "\tIteration: 840\t Loss: 0.7317\n",
      "\tIteration: 880\t Loss: 0.7202\n",
      "\tIteration: 920\t Loss: 0.7164\n",
      "Epoch: 2/3\n",
      "\tIteration: 0\t Loss: 0.0167\n",
      "\tIteration: 40\t Loss: 0.7001\n",
      "\tIteration: 80\t Loss: 0.7061\n",
      "\tIteration: 120\t Loss: 0.7312\n",
      "\tIteration: 160\t Loss: 0.6751\n",
      "\tIteration: 200\t Loss: 0.6817\n",
      "\tIteration: 240\t Loss: 0.6675\n",
      "\tIteration: 280\t Loss: 0.6496\n",
      "\tIteration: 320\t Loss: 0.6611\n",
      "\tIteration: 360\t Loss: 0.6554\n",
      "\tIteration: 400\t Loss: 0.6272\n",
      "\tIteration: 440\t Loss: 0.6178\n",
      "\tIteration: 480\t Loss: 0.6446\n",
      "\tIteration: 520\t Loss: 0.6082\n",
      "\tIteration: 560\t Loss: 0.6427\n",
      "\tIteration: 600\t Loss: 0.6344\n",
      "\tIteration: 640\t Loss: 0.6194\n",
      "\tIteration: 680\t Loss: 0.6111\n",
      "\tIteration: 720\t Loss: 0.5676\n",
      "\tIteration: 760\t Loss: 0.6056\n",
      "\tIteration: 800\t Loss: 0.5770\n",
      "\tIteration: 840\t Loss: 0.5867\n",
      "\tIteration: 880\t Loss: 0.5829\n",
      "\tIteration: 920\t Loss: 0.6019\n",
      "Epoch: 3/3\n",
      "\tIteration: 0\t Loss: 0.0159\n",
      "\tIteration: 40\t Loss: 0.5644\n",
      "\tIteration: 80\t Loss: 0.5399\n",
      "\tIteration: 120\t Loss: 0.5461\n",
      "\tIteration: 160\t Loss: 0.5631\n",
      "\tIteration: 200\t Loss: 0.5493\n",
      "\tIteration: 240\t Loss: 0.5513\n",
      "\tIteration: 280\t Loss: 0.5428\n",
      "\tIteration: 320\t Loss: 0.5618\n",
      "\tIteration: 360\t Loss: 0.5297\n",
      "\tIteration: 400\t Loss: 0.5275\n",
      "\tIteration: 440\t Loss: 0.5410\n",
      "\tIteration: 480\t Loss: 0.5209\n",
      "\tIteration: 520\t Loss: 0.5326\n",
      "\tIteration: 560\t Loss: 0.4892\n",
      "\tIteration: 600\t Loss: 0.4714\n",
      "\tIteration: 640\t Loss: 0.5365\n",
      "\tIteration: 680\t Loss: 0.4839\n",
      "\tIteration: 720\t Loss: 0.4928\n",
      "\tIteration: 760\t Loss: 0.5201\n",
      "\tIteration: 800\t Loss: 0.4644\n",
      "\tIteration: 840\t Loss: 0.5218\n",
      "\tIteration: 880\t Loss: 0.4912\n",
      "\tIteration: 920\t Loss: 0.4690\n"
     ]
    }
   ],
   "source": [
    "criterion = nn.NLLLoss()\n",
    "optimizer = optim.SGD(model.parameters(), lr=0.003)\n",
    "epochs = 3\n",
    "print_every = 40\n",
    "\n",
    "for epoch in range(epochs):\n",
    "    running_loss = 0\n",
    "    print(f\"Epoch: {epoch+1}/{epochs}\")\n",
    "\n",
    "    for i, (images, labels) in enumerate(iter(trainloader)):\n",
    "\n",
    "        images.resize_(images.size()[0],784)\n",
    "\n",
    "        ### Step-1 in training loop - reset the gradients\n",
    "        optimizer.zero_grad()\n",
    "\n",
    "        logits = model.forward(images) ### step-2 forward pass\n",
    "       \n",
    "\n",
    "        pred = F.log_softmax(logits, dim=1)\n",
    "        loss = criterion(pred, labels) ### step-3 Compute loss\n",
    "\n",
    "        loss.backward()              ### step-4 Backward pass\n",
    "        optimizer.step()                ### step-5 update the model\n",
    "\n",
    "        running_loss += loss.item()\n",
    "\n",
    "        if i%print_every ==0:\n",
    "            print(f\"\\tIteration: {i}\\t Loss: {running_loss/print_every:.4f}\")\n",
    "            running_loss=0"
   ]
  },
  {
   "cell_type": "code",
   "execution_count": 19,
   "metadata": {},
   "outputs": [],
   "source": [
    "def view_classify(img, ps):\n",
    "\n",
    "    ps = ps.data.numpy().squeeze()\n",
    "\n",
    "    fig, (ax1, ax2) = plt.subplots(figsize=(6,9), ncols=2)\n",
    "    ax1.imshow(img.resize_(1, 28, 28).numpy().squeeze())\n",
    "    ax1.axis('off')\n",
    "    ax2.barh(np.arange(10), ps)\n",
    "    ax2.set_aspect(0.1)\n",
    "    ax2.set_yticks(np.arange(10))\n",
    "    ax2.set_yticklabels(np.arange(10))\n",
    "    ax2.set_title('Class Probability')\n",
    "    ax2.set_xlim(0, 1.1)"
   ]
  },
  {
   "cell_type": "code",
   "execution_count": 20,
   "metadata": {},
   "outputs": [
    {
     "data": {
      "image/png": "[encoded data removed]",
      "text/plain": [
       "<Figure size 432x648 with 2 Axes>"
      ]
     },
     "metadata": {
      "image/png": {
       "height": 195,
       "width": 349
      },
      "needs_background": "light"
     },
     "output_type": "display_data"
    }
   ],
   "source": [
    "### Step-7 testing the model\n",
    "images, labels = next(iter(testloader))\n",
    "\n",
    "img = images[9].view(1,784)\n",
    "# Turn off gradients to speed up this part\n",
    "#with T.no_grad():\n",
    "logits = model.forward(img)\n",
    "\n",
    "# Output of the network are logits, need to take softmax for probabilities\n",
    "ps = F.softmax(logits, dim=1)\n",
    "view_classify(img.view(1, 28, 28), ps)"
   ]
  },
  {
   "cell_type": "markdown",
   "metadata": {},
   "source": [
    "<div style=\"background:#222222; color:#ffffff; padding:20px\">\n",
    "  <h3 style=\"color:#01ff84; margin-top:4px\">Exercise 3:</h3>\n",
    "  <p>Write the code for adding <strong style=\"color:#01ff84\">Early Stopping with patience = 2</strong> to the training loop from scratch.</p>\n",
    "  <p><strong style=\"color:#01ff84\">Hint:</strong> Monitor the Validation loss every epoch, and if in 2 epochs, the validation loss does not improve, stop the training loop with <code>break</code>.</p>\n",
    "<div>"
   ]
  },
  {
   "cell_type": "code",
   "execution_count": null,
   "metadata": {},
   "outputs": [],
   "source": []
  }
 ],
 "metadata": {
  "kernelspec": {
   "display_name": "Python 3",
   "language": "python",
   "name": "python3"
  },
  "language_info": {
   "codemirror_mode": {
    "name": "ipython",
    "version": 3
   },
   "file_extension": ".py",
   "mimetype": "text/x-python",
   "name": "python",
   "nbconvert_exporter": "python",
   "pygments_lexer": "ipython3",
   "version": "3.7.11"
  }
 },
 "nbformat": 4,
 "nbformat_minor": 2
}
