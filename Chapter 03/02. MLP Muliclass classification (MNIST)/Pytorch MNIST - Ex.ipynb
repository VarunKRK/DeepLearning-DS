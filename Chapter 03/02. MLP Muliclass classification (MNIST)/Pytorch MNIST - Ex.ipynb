{
 "cells": [
  {
   "cell_type": "markdown",
   "metadata": {},
   "source": [
    "<div style=\"background:#222222; color:#ffffff; padding:20px\">\n",
    "    <h2 align=\"center\">Deep Learning Fundamentals</h2>\n",
    "    <h2 align=\"center\" style=\"color:#01ff84\">Multiclass Clasification: MNIST</h2>\n",
    "<div>"
   ]
  },
  {
   "cell_type": "markdown",
   "metadata": {},
   "source": [
    "## Imports"
   ]
  },
  {
   "cell_type": "code",
   "execution_count": 1,
   "metadata": {},
   "outputs": [],
   "source": [
    "# importing modules\n",
    "import torch as T\n",
    "import torch.nn as nn \n",
    "import torch.optim as optim\n",
    "import torch.nn.functional as F\n",
    "from torchvision import datasets, transforms \n",
    "\n",
    "import matplotlib.pyplot as plt\n",
    "import numpy as np\n",
    "import time\n",
    "\n",
    "%matplotlib inline\n",
    "%config InlineBackend.figure_format = 'retina'"
   ]
  },
  {
   "cell_type": "markdown",
   "metadata": {},
   "source": [
    "## Auxliary plotting function"
   ]
  },
  {
   "cell_type": "code",
   "execution_count": 2,
   "metadata": {},
   "outputs": [],
   "source": [
    "# https://discuss.pytorch.org/t/view-classify-in-module-helper/30279/6\n",
    "\n",
    "def view_classify(img, ps):\n",
    "\n",
    "    ps = ps.data.numpy().squeeze()\n",
    "\n",
    "    fig, (ax1, ax2) = plt.subplots(figsize=(6,9), ncols=2)\n",
    "    ax1.imshow(img.resize_(1, 28, 28).numpy().squeeze())\n",
    "    ax1.axis('off')\n",
    "    ax2.barh(np.arange(10), ps)\n",
    "    ax2.set_aspect(0.1)\n",
    "    ax2.set_yticks(np.arange(10))\n",
    "    ax2.set_yticklabels(np.arange(10))\n",
    "    ax2.set_title('Class Probability')\n",
    "    ax2.set_xlim(0, 1.1)"
   ]
  },
  {
   "cell_type": "markdown",
   "metadata": {},
   "source": [
    "# Load MNIST Dataset\n",
    "First up, we need to get our dataset. This is provided through the `torchvision` package. The code below will download the MNIST dataset, then create training and test datasets for us. Don't worry too much about the details here, you'll learn more about this later."
   ]
  },
  {
   "cell_type": "code",
   "execution_count": 3,
   "metadata": {},
   "outputs": [],
   "source": [
    "# Define a transform to normalize the data (Preprocessing)\n",
    "transform = transforms.Compose([transforms.ToTensor(), transforms.Normalize((0.5), (0.5)) ])\n",
    "\n",
    "# Download and load the training data\n",
    "trainset    = datasets.MNIST('MNIST_data/', download=True, train=True, transform=transform)\n",
    "trainloader = T.utils.data.DataLoader(trainset, batch_size=64, shuffle=True)\n",
    "\n",
    "# Download and load the test data\n",
    "testset    = datasets.MNIST('MNIST_data/', download=True, train=False, transform=transform)\n",
    "testloader = T.utils.data.DataLoader(testset, batch_size=64, shuffle=True)"
   ]
  },
  {
   "cell_type": "code",
   "execution_count": 4,
   "metadata": {},
   "outputs": [],
   "source": [
    "dataiter = iter(trainloader)\n",
    "images, labels = dataiter.next()"
   ]
  },
  {
   "cell_type": "markdown",
   "metadata": {},
   "source": [
    "Now our network is brilliant. It can accurately predict the digits in our images."
   ]
  },
  {
   "cell_type": "markdown",
   "metadata": {},
   "source": [
    "<div style=\"background:#222222; color:#ffffff; padding:20px\">\n",
    "    <h2 align=\"center\" style=\"color:#01ff84\">MNIST Clasification: Exercise</h2>\n",
    "<div>"
   ]
  },
  {
   "cell_type": "markdown",
   "metadata": {},
   "source": [
    "<div style=\"background:#222222; color:#ffffff; padding:20px\">\n",
    "  <h3 style=\"color:#01ff84; margin-top:4px\">Exercise 2:</h3>\n",
    "  <p>Train your network implementing the Pytorch training loop and <strong style=\"color:#01ff84\">after each epoch, use the model for predicting the test (validation) MNIST data.</strong></p>\n",
    "  <p>Note: If your model does not fit with the final softmax layer, you can remove this layer.</p>\n",
    "  <p>Hint: <a href=\"https://discuss.pytorch.org/t/training-loop-checking-validation-accuracy/78399\">Training loop checking validation accuracy\n",
    "</a></p>\n",
    "  <p>Research about <code>model.train()</code>, <code>model.eval()</code> and <code>with torch.no_grad()</code> in Pytorch.\n",
    "<div>"
   ]
  },
  {
   "cell_type": "code",
   "execution_count": 5,
   "metadata": {},
   "outputs": [],
   "source": [
    "# ## TODO: Your network here\n",
    "# input_sz = 784\n",
    "# hidden_sz = [400, 200, 100]\n",
    "# output_sz = 10\n",
    "\n",
    "# # Building a feed-forward network\n",
    "\n",
    "# model = nn.Sequential(nn.Linear(input_sz, hidden_sz[0]),\n",
    "#                       nn.ReLU(),\n",
    "#                       nn.Linear(hidden_sz[0], hidden_sz[1]),\n",
    "#                       nn.ReLU(),\n",
    "#                       nn.Linear(hidden_sz[1], hidden_sz[2]),\n",
    "#                       nn.ReLU(),\n",
    "#                       nn.Linear(hidden_sz[2], output_sz))\n",
    "#                       #nn.Softmax(dim=1))\n",
    "\n",
    "# print(model)"
   ]
  },
  {
   "cell_type": "code",
   "execution_count": 6,
   "metadata": {},
   "outputs": [
    {
     "data": {
      "text/plain": [
       "Classifier(\n",
       "  (input_layer): Linear(in_features=784, out_features=600, bias=True)\n",
       "  (hidden1): Linear(in_features=600, out_features=400, bias=True)\n",
       "  (hidden2): Linear(in_features=400, out_features=200, bias=True)\n",
       "  (hidden3): Linear(in_features=200, out_features=100, bias=True)\n",
       "  (output_layer): Linear(in_features=100, out_features=10, bias=True)\n",
       ")"
      ]
     },
     "execution_count": 6,
     "metadata": {},
     "output_type": "execute_result"
    }
   ],
   "source": [
    "class Classifier(nn.Module):\n",
    "    # Deining layers\n",
    "    def __init__(self):\n",
    "        super().__init__()\n",
    "        self.input_layer = nn.Linear(784,600)\n",
    "        self.hidden1 = nn.Linear(600,400)\n",
    "        self.hidden2 = nn.Linear(400,200)\n",
    "        self.hidden3 = nn.Linear(200,100)\n",
    "        self.output_layer = nn.Linear(100,10)\n",
    "\n",
    "    # forward pass through the network\n",
    "    def forward(self, x):\n",
    "        first_layer = self.input_layer(x)\n",
    "        act1 = F.relu(first_layer)\n",
    "        second_layer = self.hidden1(act1)\n",
    "        act2 = F.relu(second_layer)\n",
    "        third_layer = self.hidden2(act2)\n",
    "        act3 = F.relu(third_layer)\n",
    "        fourth_layer = self.hidden3(act3)\n",
    "        act4 = F.relu(fourth_layer)\n",
    "        out_layer = self.output_layer(act4)\n",
    "        #x = F.softmax(out_layer, dim=1)\n",
    "        return out_layer\n",
    "\n",
    "model = Classifier()\n",
    "model"
   ]
  },
  {
   "cell_type": "code",
   "execution_count": 7,
   "metadata": {},
   "outputs": [
    {
     "name": "stdout",
     "output_type": "stream",
     "text": [
      "Epoch: 1/3\n",
      "\tIteration: 0\t Loss: 0.0574\n",
      "\tIteration: 40\t Loss: 2.3016\n",
      "\tIteration: 80\t Loss: 2.3011\n",
      "\tIteration: 120\t Loss: 2.2997\n",
      "\tIteration: 160\t Loss: 2.3006\n",
      "\tIteration: 200\t Loss: 2.2981\n",
      "\tIteration: 240\t Loss: 2.2967\n",
      "\tIteration: 280\t Loss: 2.2970\n",
      "\tIteration: 320\t Loss: 2.2959\n",
      "\tIteration: 360\t Loss: 2.2947\n",
      "\tIteration: 400\t Loss: 2.2930\n",
      "\tIteration: 440\t Loss: 2.2929\n",
      "\tIteration: 480\t Loss: 2.2894\n",
      "\tIteration: 520\t Loss: 2.2879\n",
      "\tIteration: 560\t Loss: 2.2850\n",
      "\tIteration: 600\t Loss: 2.2850\n",
      "\tIteration: 640\t Loss: 2.2852\n",
      "\tIteration: 680\t Loss: 2.2838\n",
      "\tIteration: 720\t Loss: 2.2803\n",
      "\tIteration: 760\t Loss: 2.2775\n",
      "\tIteration: 800\t Loss: 2.2781\n",
      "\tIteration: 840\t Loss: 2.2766\n",
      "\tIteration: 880\t Loss: 2.2759\n",
      "\tIteration: 920\t Loss: 2.2726\n",
      "Epoch: 2/3\n",
      "\tIteration: 0\t Loss: 0.0568\n",
      "\tIteration: 40\t Loss: 2.2693\n",
      "\tIteration: 80\t Loss: 2.2659\n",
      "\tIteration: 120\t Loss: 2.2621\n",
      "\tIteration: 160\t Loss: 2.2594\n",
      "\tIteration: 200\t Loss: 2.2572\n",
      "\tIteration: 240\t Loss: 2.2570\n",
      "\tIteration: 280\t Loss: 2.2514\n",
      "\tIteration: 320\t Loss: 2.2441\n",
      "\tIteration: 360\t Loss: 2.2416\n",
      "\tIteration: 400\t Loss: 2.2365\n",
      "\tIteration: 440\t Loss: 2.2320\n",
      "\tIteration: 480\t Loss: 2.2266\n",
      "\tIteration: 520\t Loss: 2.2214\n",
      "\tIteration: 560\t Loss: 2.2155\n",
      "\tIteration: 600\t Loss: 2.2087\n",
      "\tIteration: 640\t Loss: 2.2022\n",
      "\tIteration: 680\t Loss: 2.1951\n",
      "\tIteration: 720\t Loss: 2.1864\n",
      "\tIteration: 760\t Loss: 2.1757\n",
      "\tIteration: 800\t Loss: 2.1635\n",
      "\tIteration: 840\t Loss: 2.1552\n",
      "\tIteration: 880\t Loss: 2.1417\n",
      "\tIteration: 920\t Loss: 2.1242\n",
      "Epoch: 3/3\n",
      "\tIteration: 0\t Loss: 0.0535\n",
      "\tIteration: 40\t Loss: 2.1027\n",
      "\tIteration: 80\t Loss: 2.0779\n",
      "\tIteration: 120\t Loss: 2.0505\n",
      "\tIteration: 160\t Loss: 2.0366\n",
      "\tIteration: 200\t Loss: 2.0037\n",
      "\tIteration: 240\t Loss: 1.9848\n",
      "\tIteration: 280\t Loss: 1.9553\n",
      "\tIteration: 320\t Loss: 1.9127\n",
      "\tIteration: 360\t Loss: 1.8703\n",
      "\tIteration: 400\t Loss: 1.8196\n",
      "\tIteration: 440\t Loss: 1.7538\n",
      "\tIteration: 480\t Loss: 1.7249\n",
      "\tIteration: 520\t Loss: 1.6434\n",
      "\tIteration: 560\t Loss: 1.5967\n",
      "\tIteration: 600\t Loss: 1.5308\n",
      "\tIteration: 640\t Loss: 1.4610\n",
      "\tIteration: 680\t Loss: 1.4281\n",
      "\tIteration: 720\t Loss: 1.3712\n",
      "\tIteration: 760\t Loss: 1.3098\n",
      "\tIteration: 800\t Loss: 1.2593\n",
      "\tIteration: 840\t Loss: 1.2022\n",
      "\tIteration: 880\t Loss: 1.1488\n",
      "\tIteration: 920\t Loss: 1.1079\n"
     ]
    }
   ],
   "source": [
    "criterion = nn.CrossEntropyLoss()\n",
    "optimizer = optim.SGD(model.parameters(), lr=0.003)\n",
    "epochs = 3\n",
    "print_every = 40\n",
    "\n",
    "for epoch in range(epochs):\n",
    "    running_loss = 0\n",
    "    print(f\"Epoch: {epoch+1}/{epochs}\")\n",
    "\n",
    "    for i, (images, labels) in enumerate(iter(trainloader)):\n",
    "\n",
    "        images.resize_(images.size()[0],784)\n",
    "\n",
    "        ### Step-1 in training loop - reset the gradients\n",
    "        optimizer.zero_grad()\n",
    "\n",
    "        logits = model.forward(images) ### step-2 forward pass\n",
    "       \n",
    "\n",
    "        pred = F.log_softmax(logits, dim=1)\n",
    "        loss = criterion(pred, labels) ### step-3 Compute loss\n",
    "\n",
    "        loss.backward()              ### step-4 Backward pass\n",
    "        optimizer.step()                ### step-5 update the model\n",
    "\n",
    "        running_loss += loss.item()\n",
    "\n",
    "        if i%print_every ==0:\n",
    "            print(f\"\\tIteration: {i}\\t Loss: {running_loss/print_every:.4f}\")\n",
    "            running_loss=0"
   ]
  },
  {
   "cell_type": "code",
   "execution_count": 8,
   "metadata": {},
   "outputs": [],
   "source": [
    "def view_classify(img, ps):\n",
    "\n",
    "    ps = ps.data.numpy().squeeze()\n",
    "\n",
    "    fig, (ax1, ax2) = plt.subplots(figsize=(6,9), ncols=2)\n",
    "    ax1.imshow(img.resize_(1, 28, 28).numpy().squeeze())\n",
    "    ax1.axis('off')\n",
    "    ax2.barh(np.arange(10), ps)\n",
    "    ax2.set_aspect(0.1)\n",
    "    ax2.set_yticks(np.arange(10))\n",
    "    ax2.set_yticklabels(np.arange(10))\n",
    "    ax2.set_title('Class Probability')\n",
    "    ax2.set_xlim(0, 1.1)"
   ]
  },
  {
   "cell_type": "code",
   "execution_count": 9,
   "metadata": {},
   "outputs": [
    {
     "data": {
      "image/png": "[encoded data removed]",
      "text/plain": [
       "<Figure size 432x648 with 2 Axes>"
      ]
     },
     "metadata": {
      "image/png": {
       "height": 195,
       "width": 349
      },
      "needs_background": "light"
     },
     "output_type": "display_data"
    }
   ],
   "source": [
    "### Step-7 testing the model\n",
    "images, labels = next(iter(testloader))\n",
    "\n",
    "img = images[9].view(1,784)\n",
    "# Turn off gradients to speed up this part\n",
    "with T.no_grad():\n",
    "    logits = model.forward(img)\n",
    "\n",
    "# Output of the network are logits, need to take softmax for probabilities\n",
    "ps = F.softmax(logits, dim=1)\n",
    "view_classify(img.view(1, 28, 28), ps)"
   ]
  },
  {
   "cell_type": "markdown",
   "metadata": {},
   "source": [
    "<div style=\"background:#222222; color:#ffffff; padding:20px\">\n",
    "  <h3 style=\"color:#01ff84; margin-top:4px\">Exercise 3:</h3>\n",
    "  <p>Write the code for adding <strong style=\"color:#01ff84\">Early Stopping with patience = 2</strong> to the training loop from scratch.</p>\n",
    "  <p><strong style=\"color:#01ff84\">Hint:</strong> Monitor the Validation loss every epoch, and if in 2 epochs, the validation loss does not improve, stop the training loop with <code>break</code>.</p>\n",
    "<div>"
   ]
  },
  {
   "cell_type": "code",
   "execution_count": 11,
   "metadata": {},
   "outputs": [],
   "source": [
    "## TODO: Your training loop here"
   ]
  }
 ],
 "metadata": {
  "kernelspec": {
   "display_name": "Python 3",
   "language": "python",
   "name": "python3"
  },
  "language_info": {
   "codemirror_mode": {
    "name": "ipython",
    "version": 3
   },
   "file_extension": ".py",
   "mimetype": "text/x-python",
   "name": "python",
   "nbconvert_exporter": "python",
   "pygments_lexer": "ipython3",
   "version": "3.7.11"
  }
 },
 "nbformat": 4,
 "nbformat_minor": 2
}
